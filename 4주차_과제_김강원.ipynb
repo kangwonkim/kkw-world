{
  "nbformat": 4,
  "nbformat_minor": 0,
  "metadata": {
    "colab": {
      "name": "4주차 과제.ipynb",
      "provenance": [],
      "collapsed_sections": [],
      "include_colab_link": true
    },
    "kernelspec": {
      "name": "python3",
      "display_name": "Python 3"
    }
  },
  "cells": [
    {
      "cell_type": "markdown",
      "metadata": {
        "id": "view-in-github",
        "colab_type": "text"
      },
      "source": [
        "<a href=\"https://colab.research.google.com/github/kangwonkim/kkw-world/blob/master/4%EC%A3%BC%EC%B0%A8_%EA%B3%BC%EC%A0%9C_%EA%B9%80%EA%B0%95%EC%9B%90.ipynb\" target=\"_parent\"><img src=\"https://colab.research.google.com/assets/colab-badge.svg\" alt=\"Open In Colab\"/></a>"
      ]
    },
    {
      "cell_type": "markdown",
      "metadata": {
        "id": "wxkL6PjwsI6L",
        "colab_type": "text"
      },
      "source": [
        "# 4주차 과제\n",
        "- 용어 정리\n",
        "- 딥러닝 강의 클론 코딩\n",
        "- 딥러닝 순전파 & 역전파 계산"
      ]
    },
    {
      "cell_type": "markdown",
      "metadata": {
        "id": "ixEtDe6_uGgI",
        "colab_type": "text"
      },
      "source": [
        "## 1. 용어 정리\n",
        "\n",
        "다음 제시된 단어의 정의(설명)를 정리하여 작성 하세요.\n",
        "\n",
        "* 2문장 이상 작성 해 주세요. \n",
        "* 주제(단어)와 크게 벗어나지만 않는다면 정답처리 됩니다.\n",
        "* 강의 뿐 아니라 기타 레퍼런스를 참고하여 작성하셔도 됩니다. (기타 레퍼런스를 참고하신 경우, 해당 레퍼런스를 정리하여 하단에 작성해 주세요.)\n"
      ]
    },
    {
      "cell_type": "markdown",
      "metadata": {
        "id": "0lfwat8eurKZ",
        "colab_type": "text"
      },
      "source": [
        "__(예시)__\n",
        "### 심층 신경망\n",
        ": 입력층과 출력층 사이에 여러 개의 은닉층들로 이뤄진 인공신경망이다. 심층 신경망은 일반적으로 인공신경망과 마찬가지로 복잡한 비선형 관계들을 모델링 할 수 있다. 신층신경망의 목적은 분류 및 수치예측을 하기 위함이고 이미지 트레이닝이나 문자인식과 같은 분야에서 매우 유용하게 쓰이고 있다."
      ]
    },
    {
      "cell_type": "markdown",
      "metadata": {
        "id": "Y8YJNKG_v65A",
        "colab_type": "text"
      },
      "source": [
        "---\n",
        "### MCP 뉴런\n",
        ":AI를 설계하기 위해, 생물학적 뇌가 동작하는 방식을 이해하려는 시도로, 1943년 워랜 맥컬록과 월터 피츠는 처음으로 간소화된 뇌의 뉴런 개념을 발표했다.\n",
        "이를 맥컬록-피츠 뉴런 (MCP) 이라고 한다.\n",
        "\n",
        "아래 그림처럼 뉴런들은 뇌의 신경세포들과 연결되어 있으며 화학적, 전기적 신호를 처리하고 전달하는데 관여한다. MCP는 이러한 신경세포를 이진 출력을 내는 간단한 논리회로로 표현했으며, 수상돌기에 여러 신호가 도착하면 세포체가 합쳐진다. 합쳐진 신호가 특정 임계값을 넘으면 출력 신호가 생성되고 축삭 돌기를 이용하여 전달된다.\n",
        "\n",
        "![뇌의 신경세포](https://thebook.io/img/007022/p049.jpg)\n",
        "\n",
        "---\n",
        "\n",
        "### 퍼셉트론\n",
        ": 퍼셉트론(Perceptron)은 인공신경망의 한 종류로써, 1957년 프랭크 로젠블랫에 의해 고안되었다. 이는 MCP 기반으로 자동으로 최적의 가중치를 학습하는 알고리즘이다.\n",
        "\n",
        "입력치에 가중치를 곱한 것을 모두 합한 값이 활성함수에 의해 판단되는데, 그 값이 임계치(θ)보다 크면 뉴런이 활성화되어 결과 값으로 1을 출력하고, 비활성화되면 결과 값으로 0 또는 -1을 출력한다.\n",
        "\n",
        "'단층 퍼셉트론'은 XOR 연산이 불가능하여 직선형 영역만 표현 가능하지만, '다층 퍼셉트론'은 XOR 연산이 가능하기 때문에 비선형 영역도 표현 가능하다.\n",
        "\n",
        "---\n",
        "\n",
        "### 역전파\n",
        ": 다층 퍼셉트론 학습에 사용되는 통계적 기법을 의미한다.\n",
        "\n",
        "일반적인 다층 퍼셉트론의 형태는 입력층 - 은닉층 - 출력층으로 구성되며, 각 층은 서로 교차되는 weight (가중치) 값으로 연결되어 있다. 출력층과 은닉층 사이에 생기는 오차를 이용해 출력측에서 입력측 역으로 가중치를 조정하여 실제 원하는 값으로 학습되도록 하는 방법이다.\n",
        "\n",
        "---\n",
        "\n",
        "### 강화학습\n",
        ": 강화 학습은 지도 학습처럼 정답이 없으며, 비지도 학습처럼 데이터만을 기반으로 학습하지도 않는다. \n",
        "\n",
        "**강화 학습**은 에이전트라는 존재가 환경과 상호작용하며, 이 환경에는 보상이라는 기준이 있어서 다양한 시행착오를 통해 보상을 최대화하는 방향으로 학습을 진행한다.\n",
        "즉, **보상을 최대화하는 의사결정전략, 순차적인 행동을 알아가는 방법이라고 정의할 수 있다.**\n",
        "\n",
        "순차적인 행동을 알아가는 방법 - MDP (Markov decision process)\n",
        "\n",
        "MDP 구성요소 : 상태, 행동, 보상함수, 상태 변환 확률, 감가율 \n",
        "\n",
        "---\n",
        "\n",
        "### 과적합\n",
        ": 머신러닝에서 학습 데이터를 과하게 학습하여 학습 데이터에서는 정확도가 높지만, 실제 데이터에서는 오차가 발생하는 것을 의미하는 용어이다.\n",
        "\n",
        "예를 들어, 하얀색 강아지를 보며 강아지의 특성을 학습한 사람이 검은색이나 노란색 강아지를 보고는 그것을 강아지라고 인식하지 못하는 현상이 과적합(overfitting)과 유사한 경우이다.\n",
        "\n",
        "\n",
        "---\n",
        "\n",
        "### 차원의 저주\n",
        ": 고정된 크기의 훈련 데이터셋 차원이 늘어남에 따라(=변수의 증가) 특성 공간이 점점 희소해 지는(성능 저하) 현상을 의미한다.\n",
        "무조건 변수의 수가 증가한다고 해서 차원의 저주 문제가 있는 것이 아니라, 관측치 수보다 변수의 수가 많아지면 발생한다.\n",
        "\n",
        "해결책 - 차원을 줄이거나(축소) 데이터를 많이 획득한다. \n",
        "\n",
        "\n",
        "\n",
        "\n",
        "---\n"
      ]
    },
    {
      "cell_type": "markdown",
      "metadata": {
        "id": "d-zfFXLCy6jD",
        "colab_type": "text"
      },
      "source": [
        "## 2. 딥러닝 강의 클론 코딩\n",
        "\n",
        "####__퍼셉트론 구조 구현하기__ \n",
        "딥러닝 강의(__딥러닝 원리[1] 3:15 ~ 5:15 부분__)를 보고 코드를 따라 치며 출력 결과를 만드세요.\n",
        " \n",
        "\n",
        "* 하나의 코드셀에 해당 코드를 한번에 다 적어서 실행해주세요 (__그렇게 하지 않을 경우, 아래 이미지와 같은 출력값이 나오지 않을 수 있습니다__)\n",
        "\n",
        "*__주의!__ 실제로 코딩해서 출력해보면 강의에 나온 출력 결과와 다르게 나옵니다!!\n"
      ]
    },
    {
      "cell_type": "code",
      "metadata": {
        "id": "R4SaevkD6U9U",
        "colab_type": "code",
        "outputId": "dbc48cd4-8fe2-4e0b-c63e-71bc509af6e5",
        "colab": {
          "base_uri": "https://localhost:8080/",
          "height": 210
        }
      },
      "source": [
        "import tensorflow as tf\n",
        "tf.compat.v1.set_random_seed(2020)\n",
        "x=1\n",
        "y=0\n",
        "w=tf.random.normal([1],0,1)\n",
        "\n",
        "import math\n",
        "def sigmoid(x) :\n",
        "  return 1/(1 + math.exp(-x))\n",
        "\n",
        "output = sigmoid(x*w)\n",
        "print(output)\n",
        "\n",
        "for i in range(1000):\n",
        "  output = sigmoid(x*w)\n",
        "  error = y - output\n",
        "  w = w + x * 0.1 * error\n",
        "\n",
        "  if i % 100 ==99:\n",
        "    print('학습 횟수:', i, 'Error:', error, '예측 결과:', output)\n",
        "    "
      ],
      "execution_count": 11,
      "outputs": [
        {
          "output_type": "stream",
          "text": [
            "0.47477188589261\n",
            "학습 횟수: 99 Error: -0.10010598284299604 예측 결과: 0.10010598284299604\n",
            "학습 횟수: 199 Error: -0.05178399422833116 예측 결과: 0.05178399422833116\n",
            "학습 횟수: 299 Error: -0.034590451977903586 예측 결과: 0.034590451977903586\n",
            "학습 횟수: 399 Error: -0.02588962752851373 예측 결과: 0.02588962752851373\n",
            "학습 횟수: 499 Error: -0.020658699939863617 예측 결과: 0.020658699939863617\n",
            "학습 횟수: 599 Error: -0.017174253993457355 예측 결과: 0.017174253993457355\n",
            "학습 횟수: 699 Error: -0.014689506449480992 예측 결과: 0.014689506449480992\n",
            "학습 횟수: 799 Error: -0.012829497265431342 예측 결과: 0.012829497265431342\n",
            "학습 횟수: 899 Error: -0.011385568271837804 예측 결과: 0.011385568271837804\n",
            "학습 횟수: 999 Error: -0.010232493309882492 예측 결과: 0.010232493309882492\n"
          ],
          "name": "stdout"
        }
      ]
    },
    {
      "cell_type": "markdown",
      "metadata": {
        "id": "wcc5mzI9oZ7r",
        "colab_type": "text"
      },
      "source": [
        "![대체 텍스트](https://www.notion.so/image/https%3A%2F%2Fs3-us-west-2.amazonaws.com%2Fsecure.notion-static.com%2F0cceeed0-0235-4b0f-af88-0b8c377d5b4b%2F_2020-06-09__9.35.23.png?table=block&id=88fd8912-9356-49a4-9fda-a1a63fe96ea9&width=2870&cache=v2)"
      ]
    },
    {
      "cell_type": "markdown",
      "metadata": {
        "id": "kr0HVRk8fOom",
        "colab_type": "text"
      },
      "source": [
        "## 3. 딥러닝 순전파 & 역전파 계산\n",
        "\n",
        "딥러닝 강의(__딥러닝 원리[2] 0:55 ~ 4:32 부분__)에 나오는 순전파 & 역전파 계산에 대한 문제 입니다.\n",
        "\n",
        "해당 영상과 다음 이미지를 참고하여 다음 2가지 물음에 답하세요.\n",
        "\n",
        "\n",
        "(1) 학습률이 0.2 일 경우 출력층의 노드값\n",
        "\n",
        "(2) 학습률이 0.1과 0.2 중 기대출력값이 지도데이터 \"3\"과 더 가까운 학습률은?"
      ]
    },
    {
      "cell_type": "markdown",
      "metadata": {
        "id": "CpwPFWhOUzww",
        "colab_type": "text"
      },
      "source": [
        "![대체 텍스트](https://www.notion.so/image/https%3A%2F%2Fs3-us-west-2.amazonaws.com%2Fsecure.notion-static.com%2Ff54dfd45-92ec-44ae-9616-6949d2484a45%2F_2020-06-10__5.22.03.png?table=block&id=ee05da89-3ceb-4ad9-a2d3-c9f68d24d1d9&width=3580&cache=v2)"
      ]
    },
    {
      "cell_type": "markdown",
      "metadata": {
        "id": "B2OVY7w5U3CI",
        "colab_type": "text"
      },
      "source": [
        "## (1) 학습률이 0.2 일 경우 출력층의 노드값 : 1.6\n",
        "## (2) 학습률이 0.1과 0.2 중 기대출력값이 지도데이터 \"3\"과 더 가까운 학습률은? : 0.1"
      ]
    }
  ]
}

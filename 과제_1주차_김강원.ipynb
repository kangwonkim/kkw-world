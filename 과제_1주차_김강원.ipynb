{
  "nbformat": 4,
  "nbformat_minor": 0,
  "metadata": {
    "colab": {
      "name": "Untitled0.ipynb",
      "provenance": [],
      "collapsed_sections": [],
      "authorship_tag": "ABX9TyMvbGscSfhmwlPqSLsjp7hK",
      "include_colab_link": true
    },
    "kernelspec": {
      "name": "python3",
      "display_name": "Python 3"
    }
  },
  "cells": [
    {
      "cell_type": "markdown",
      "metadata": {
        "id": "view-in-github",
        "colab_type": "text"
      },
      "source": [
        "<a href=\"https://colab.research.google.com/github/kangwonkim/kkw-world/blob/master/%EA%B3%BC%EC%A0%9C_1%EC%A3%BC%EC%B0%A8_%EA%B9%80%EA%B0%95%EC%9B%90.ipynb\" target=\"_parent\"><img src=\"https://colab.research.google.com/assets/colab-badge.svg\" alt=\"Open In Colab\"/></a>"
      ]
    },
    {
      "cell_type": "markdown",
      "metadata": {
        "id": "C1VobVu6fAJb",
        "colab_type": "text"
      },
      "source": [
        "인공지능 사관학교 프리코스 과제 목차\n",
        "====================================\n",
        "********************************************************************************\n",
        "1주차 과제 (2020.05.25)\n",
        "-----------------------\n",
        "#### **1. 과제 주제**\n",
        " - 언어, 음성, 이미지, 자율주행 분야 (4가지) 제품 및 서비스 찾기\n",
        "\n",
        "#### **2. 과제 내용** \n",
        " **1) 언어**\n",
        "  - 작성한 언어를 자동으로 감지하여 원하는 국적의 언어로 변환해 주는 서비스 \n",
        "  - 적용 예 : 번역기\n",
        "  - 외부링크 : [google] <http://translate.google.com/?hl=ko&tab=TT> \n",
        "\n",
        "**2) 음성**\n",
        " - 음성인식기술은 컴퓨터가 마이크와 같은 소리 센서를 통해 얻은 음향학적 신호(acoustic speech signal)를 단어나 문장으로 변환시키는 기술을 말한다.\n",
        " - 적용 예 : 스마트 냉장고, 인공지능 스피커 \n",
        " - 외부링크 : [naver] <https://news.joins.com/article/23776811>   \n",
        "\n",
        "\n",
        "\n",
        "> **스마트 냉장고**   \n",
        "음성을 인식하여 네트워크 서비스, 냉장고 자체 기능 도움 서비스 등을 지원한다. \n",
        " \n",
        " ![스마트냉장고](http://post.phinf.naver.net/MjAxODEyMTJfMTUw/MDAxNTQ0NTc4NzY0NTg3.nHx9wVTR9LbeJc0e19WlVK7suh5P9B7Ah8Kj44Lg9rgg.yX7tL3fyKsRDqXxxKMjSvkOY7OmDfmT9VU2hDozF_hcg.JPEG/Ica302FnCkOfJP6mmHOqbMmUa4N4.jpg)    \n",
        "\n",
        "> **인공지능 스피커**   \n",
        "사용자가 음성으로 기기에 질문을 하면 그에 맞는 답변을 음성으로 알려주시고 하고, 집안에 있는 각종 스마트 홈기기와 연동되어 음성으로 자전제품을 컨트롤할 수 있다.   \n",
        "\n",
        "![대체 텍스트](http://cafefiles.naver.net/MjAxOTA2MDhfMjg3/MDAxNTU5OTY3NTI4NzI3.kcwKvZzcg2EmYaZI7TcRMVtii1D2WpsvsVucNeGn678g.zRHBMHqpzCH_UjevELG95aijxymxcRF0qYrgN6sCIXsg.PNG/20190608131712.png)\n",
        "\n",
        "**3) 이미지** \n",
        " - 렌즈를 갖다 대기만 하면 피사체를 분석해주는 AI 카메라 등.  인공지능은 이미지 분석 분야에도 새롭게 각광 받고 있다.   \n",
        "  이미지 분석 기술은 기존에도 컴퓨터 비전(Computer Vision)을 중심으로 연구되어 온 분야였다. 이것이 최근에는 더욱 발전된 인공신경망 기술인 **딥러닝(Deep Learning)**을 통해 사람의 시각처럼 높은 정확도와 다양한 사물 인식이 가능한 **AI 이미지 분석**으로 한 단계 진화하여 등장했다.\n",
        "\n",
        " - 적용 예 : 스마트팩토리, 네이버 스마트 렌즈 \n",
        "\n",
        "> **스마트팩토리**   \n",
        "AI 이미지 분석 기술을 적용하여 부품의 불량 유무를 보다 쉽게 판정할 수 있는 시스템을 적용한 사례이다.      \n",
        "\n",
        " -![스마트팩토리](https://post-phinf.pstatic.net/MjAxOTAyMTRfMjUx/MDAxNTUwMTI2MjYwMTg4.cOcbm7HJlvwHVXEJzVnUH5uwdG2NXaZ6FfeSL-pdQ5wg.-osPONf2lOpR3D5HHTJaamCXvbMxSLP3p4fiBTh1nekg.JPEG/0214_AI-%EC%9D%B4%EB%AF%B8%EC%A7%80-%EB%B6%84%EC%84%9D_05-20X30.jpg)   \n",
        "\n",
        "\n",
        "> **네이버 스마트 렌즈**    \n",
        "휴대폰 카메라로 이미지를 찍으면 상품 검색하거나 또는 사물의 정보를 검색할 수 있는 서비스이다.    \n",
        "\n",
        "![대체 텍스트](http://blogfiles.naver.net/MjAxNzExMjJfMTMz/MDAxNTExMzU0ODUzNDQz.WHDuWWU2QYGbYJvfAJDY_Y4Z679hfT2MyHbVW9u28WYg.QY1R_8gYGmZdcaggihBf3YWDNEEx6KZufbXmlldSRBYg.JPEG.amifoto/%BC%EE%C7%CE%B7%BB%C1%EE_%281%29.jpg)\n",
        "\n",
        "\n",
        " \n",
        "     \n",
        "**4) 자율주행**   \n",
        "자율주행은 사람에 의해 통제받지 않고, 탑재된 인공지능 AI가 스스로 판단하여 주행하는 것을 말한다. 현재 자율주행이 가장 많이 발달한 교통수단은 **철도**이다. 기차는 정해진 선로로만 주행하고, 선로는 도로와는 반대로 폐쇄되어 있어서 다른 돌발 상황이 생길 확률이 적기 때문이다.    \n",
        "\n",
        "‘자율주행차’라는 단어는 이제 실생활에서 흔히 들을 수 있는 말이 됐지만,  비용‧기술‧안전 등 상용화까지 수많은 걸림돌이 남아 있기에 현재로써는 시기상조인 듯 하다. 또한 비행기나 선박 및 철도와는 달리 도로에는 날씨, 도로 상태, 주변 지형 지물 등 대처해야하는 변수가 너무나 많기 때문이다. 하지만 근래 교통에 제약이 없는 장소 및 용도로 적용 사용 중인 사례가 늘고 있는 추세이다.   \n",
        "우리가 실생활에서 먼저 만날 수 있는 건 자율주행 자동차보다는  자율주행로봇이 상용화되어 있다. 실제로 로봇 청소기는 자율주행 로봇의 정의에 상당히 부합한다.   \n",
        "\n",
        " - 적용 예 : 로봇청소기, 배달 자율주행차   \n",
        " \n",
        "> **로봇청소기**   \n",
        "스스로 사물을 인식하고 상황을 판단하는 지능형 로봇의 한 형태로, 청소 작업을 자율적으로 수행하는 가정용 서비스 로봇이다.\n",
        "\n",
        " ![대체 텍스트](http://cafefiles.naver.net/20160831_265/bear0601_1472629722218zsUTk_JPEG/20160831072036741890.jpg)   \n",
        "\n",
        "\n",
        "\n",
        "> **배달 자율주행차**   \n",
        " 2020년 2월 미국에서 운전대가 없는 저속 자율주행 전기배달차가 첫 운행 승인되었다.  \n",
        " - 외부링크 : [기사] <https://conpaper.tistory.com/84432>\n",
        "    \n",
        "![대체 텍스트](https://t1.daumcdn.net/cfile/tistory/995117345E3E348016)\n",
        "\n",
        "\n",
        "\n",
        "\n",
        "\n",
        "\n",
        "\n",
        "\n",
        "  \n",
        "  \n",
        "\n",
        "\n",
        "\n",
        "\n"
      ]
    },
    {
      "cell_type": "markdown",
      "metadata": {
        "id": "Fh-oLu5XkdTQ",
        "colab_type": "text"
      },
      "source": [
        ""
      ]
    }
  ]
}